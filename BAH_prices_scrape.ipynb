{
 "cells": [
  {
   "cell_type": "code",
   "execution_count": 119,
   "metadata": {},
   "outputs": [],
   "source": [
    "import requests\n",
    "from bs4 import BeautifulSoup\n",
    "import re\n",
    "import time\n",
    "import json\n",
    "from lxml import html"
   ]
  },
  {
   "cell_type": "code",
   "execution_count": 1,
   "metadata": {},
   "outputs": [],
   "source": [
    "states = ['Alabama','Alaska','Arizona','Arkansas','California','Colorado','Connecticut','Delaware','Florida','Georgia','Hawaii','Idaho','Illinois','Indiana','Iowa','Kansas','Kentucky','Louisiana','Maine','Maryland','Massachusetts','Michigan','Minnesota','Mississippi','Missouri','Montana','Nebraska','Nevada','New Hampshire','New Jersey','New Mexico','New York','North Carolina','North Dakota','Ohio','Oklahoma','Oregon','Pennsylvania','Rhode Island','South Carolina','South Dakota','Tennessee','Texas','Utah','Vermont','Virginia','Washington','West Virginia','Wisconsin','Wyoming']"
   ]
  },
  {
   "cell_type": "code",
   "execution_count": 3,
   "metadata": {},
   "outputs": [],
   "source": [
    "url = 'https://militarybenefits.info/bah-rates-state/{}/'"
   ]
  },
  {
   "cell_type": "code",
   "execution_count": 14,
   "metadata": {},
   "outputs": [],
   "source": [
    "headers = {\n",
    "    'user-agent':'Mozilla/5.0 (Windows NT 10.0; Win64; x64) AppleWebKit/537.36 (KHTML, like Gecko) Chrome/79.0.3945.79 Safari/537.36',\n",
    "    'cookie': '_ga=GA1.2.308726539.1576501840; trc_cookie_storage=taboola%2520global%253Auser-id%3D9a63df74-cb51-41df-90f2-2fd17fd08cd3-tuct2f8393c; _cmpQcif3pcsupported=1; googlepersonalization=Orqxc-Orqxc-gA; _gid=GA1.2.2040505567.1576590923; __atuvc=10%7C51; __atuvs=5df8de4a1aaa54e4003; _gat_UA-864394-17=1',\n",
    "    'accept': 'text/html,application/xhtml+xml,application/xml;q=0.9,image/webp,image/apng,*/*;q=0.8,application/signed-exchange;v=b3;q=0.9'\n",
    "}\n"
   ]
  },
  {
   "cell_type": "code",
   "execution_count": 15,
   "metadata": {},
   "outputs": [],
   "source": [
    "soup = BeautifulSoup(resp.text)"
   ]
  },
  {
   "cell_type": "code",
   "execution_count": 68,
   "metadata": {},
   "outputs": [
    {
     "data": {
      "text/plain": [
       "[<h2 class=\"tablepress-table-name tablepress-table-name-id-65\">MHA: CO045 - Military Housing Area Name: DENVER, CO</h2>,\n",
       " <h2 class=\"tablepress-table-name tablepress-table-name-id-66\">MHA: CO046 - Military Housing Area Name: COLORADO SPRINGS, CO</h2>,\n",
       " <h2 class=\"tablepress-table-name tablepress-table-name-id-67\">MHA: CO047 - Military Housing Area Name: FORT COLLINS, CO</h2>,\n",
       " <h2 class=\"tablepress-table-name tablepress-table-name-id-68\">MHA: CO422 - Military Housing Area Name: BOULDER, CO</h2>]"
      ]
     },
     "execution_count": 68,
     "metadata": {},
     "output_type": "execute_result"
    }
   ],
   "source": [
    "# soup.find('h2', class_ = re.compile(r'.*follow\\?page.*'))\n",
    "soup.findAll('h2', {'class': re.compile(r'tablepress-table-name tablepress-table-name-id-.{,4}')})"
   ]
  },
  {
   "cell_type": "code",
   "execution_count": 52,
   "metadata": {},
   "outputs": [
    {
     "data": {
      "text/plain": [
       "[<tr class=\"row-6 even\">\n",
       " <td class=\"column-1\">E05</td><td class=\"column-2\"> $2,208 </td><td class=\"column-3\"> $1,761 </td>\n",
       " </tr>, <tr class=\"row-6 even\">\n",
       " <td class=\"column-1\">E05</td><td class=\"column-2\"> $1,839 </td><td class=\"column-3\"> $1,590 </td>\n",
       " </tr>, <tr class=\"row-6 even\">\n",
       " <td class=\"column-1\">E05</td><td class=\"column-2\"> $1,740 </td><td class=\"column-3\"> $1,530 </td>\n",
       " </tr>, <tr class=\"row-6 even\">\n",
       " <td class=\"column-1\">E05</td><td class=\"column-2\"> $2,010 </td><td class=\"column-3\"> $1,617 </td>\n",
       " </tr>]"
      ]
     },
     "execution_count": 52,
     "metadata": {},
     "output_type": "execute_result"
    }
   ],
   "source": [
    "soup.findAll('tr', {'class': 'row-6 even'})"
   ]
  },
  {
   "cell_type": "code",
   "execution_count": 56,
   "metadata": {},
   "outputs": [],
   "source": [
    "tr = html.fromstring(resp.text)"
   ]
  },
  {
   "cell_type": "code",
   "execution_count": 102,
   "metadata": {},
   "outputs": [],
   "source": [
    "a=[int(a.replace('$','').replace(',','')) for a in tr.xpath(\"//tbody[@class='row-hover']/tr[@class='row-6 even']/td[@class='column-2']/text()\")]"
   ]
  },
  {
   "cell_type": "code",
   "execution_count": 103,
   "metadata": {},
   "outputs": [],
   "source": [
    "b=[re.findall(r'MHA.*Name: (.*)',a)[0] for a in tr.xpath(\"//h2[re:match(@class, 'tablepress-table-name tablepress-table-name-id-.{,4}')]/text()\",namespaces={'re':'http://exslt.org/regular-expressions'})]"
   ]
  },
  {
   "cell_type": "code",
   "execution_count": 105,
   "metadata": {},
   "outputs": [
    {
     "data": {
      "text/plain": [
       "[('DENVER, CO', 2208),\n",
       " ('COLORADO SPRINGS, CO', 1839),\n",
       " ('FORT COLLINS, CO', 1740),\n",
       " ('BOULDER, CO', 2010)]"
      ]
     },
     "execution_count": 105,
     "metadata": {},
     "output_type": "execute_result"
    }
   ],
   "source": [
    "list(zip(b,a))"
   ]
  },
  {
   "cell_type": "code",
   "execution_count": 114,
   "metadata": {},
   "outputs": [],
   "source": [
    "bah = []\n",
    "for state in states:\n",
    "    resp = requests.get(url.format(state.lower()), headers = headers)\n",
    "    tr = html.fromstring(resp.text)\n",
    "    locations = [re.findall(r'MHA.*Name: (.*)',a)[0] for a in tr.xpath(\"//h2[re:match(@class, 'tablepress-table-name tablepress-table-name-id-.{,4}')]/text()\",namespaces={'re':'http://exslt.org/regular-expressions'})]\n",
    "    prices = a=[int(a.replace('$','').replace(',','')) for a in tr.xpath(\"//tbody[@class='row-hover']/tr[@class='row-6 even']/td[@class='column-2']/text()\")]\n",
    "    for a in zip(locations, prices):\n",
    "        bah.append(a)\n",
    "    time.sleep(2)"
   ]
  },
  {
   "cell_type": "code",
   "execution_count": 120,
   "metadata": {},
   "outputs": [],
   "source": [
    "bah_dict = {}\n",
    "for b in bah:\n",
    "    bah_dict[b[0]] = b[1] \n",
    "with open('C:/Users/tamas.hegedus/Desktop/bah_data.json', 'w+') as f:\n",
    "    json.dump(bah_dict, f)"
   ]
  }
 ],
 "metadata": {
  "kernelspec": {
   "display_name": "Python 3",
   "language": "python",
   "name": "python3"
  },
  "language_info": {
   "codemirror_mode": {
    "name": "ipython",
    "version": 3
   },
   "file_extension": ".py",
   "mimetype": "text/x-python",
   "name": "python",
   "nbconvert_exporter": "python",
   "pygments_lexer": "ipython3",
   "version": "3.8.8"
  }
 },
 "nbformat": 4,
 "nbformat_minor": 2
}
