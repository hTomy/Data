{
 "cells": [
  {
   "cell_type": "code",
   "execution_count": 8,
   "metadata": {},
   "outputs": [],
   "source": [
    "import requests\n",
    "import re\n",
    "from bs4 import BeautifulSoup"
   ]
  },
  {
   "cell_type": "code",
   "execution_count": 36,
   "metadata": {},
   "outputs": [],
   "source": [
    "#proba elozo napi adatok\n",
    "previous = {'url':'newest_url', 'uj': 2291, 'elhunyt': 43, 'korhazban': 3166, 'gepen': 263, 'ossz_teszt': 1017689}"
   ]
  },
  {
   "cell_type": "code",
   "execution_count": 11,
   "metadata": {},
   "outputs": [],
   "source": [
    "url_fooldal = 'https://koronavirus.gov.hu/' \n",
    "url_hirek = url_fooldal + 'hirek'"
   ]
  },
  {
   "cell_type": "code",
   "execution_count": 12,
   "metadata": {},
   "outputs": [],
   "source": [
    "fooldal = requests.get(url_fooldal)\n",
    "hirek = requests.get(url_hirek)"
   ]
  },
  {
   "cell_type": "code",
   "execution_count": 13,
   "metadata": {},
   "outputs": [],
   "source": [
    "ossz_teszt = int(re.findall(r'<div id=\"api-mintavetel\">(.*)</',fooldal.text)[0].replace(' ',''))"
   ]
  },
  {
   "cell_type": "code",
   "execution_count": 14,
   "metadata": {},
   "outputs": [],
   "source": [
    "hirek_soup = BeautifulSoup(hirek.text)"
   ]
  },
  {
   "cell_type": "code",
   "execution_count": 15,
   "metadata": {},
   "outputs": [],
   "source": [
    "newest_url = hirek_soup.select('a[href*=\"-fovel-emelkedett\"]')[0]['href']"
   ]
  },
  {
   "cell_type": "code",
   "execution_count": 16,
   "metadata": {},
   "outputs": [],
   "source": [
    "current_data_url = url_fooldal + newest_url"
   ]
  },
  {
   "cell_type": "code",
   "execution_count": 28,
   "metadata": {},
   "outputs": [],
   "source": [
    "current_data = requests.get(current_data_url)"
   ]
  },
  {
   "cell_type": "code",
   "execution_count": 29,
   "metadata": {},
   "outputs": [],
   "source": [
    "uj = int(re.findall(r'([0-9]*) újabb magyar', current_data.text)[0].replace(' ',''))\n",
    "elhunyt = int(re.findall(r'Elhunyt ([0-9]*)', current_data.text)[0].replace(' ',''))\n",
    "korhazban = int(re.findall(r'([0-9]*) koronavírusos bet', current_data.text)[0].replace(' ',''))\n",
    "gepen = int(re.findall(r'közülük ([0-9]*)', current_data.text)[0].replace(' ',''))"
   ]
  },
  {
   "cell_type": "code",
   "execution_count": 37,
   "metadata": {},
   "outputs": [],
   "source": [
    "uj_dif = uj - previous['uj']\n",
    "elhunyt_dif = elhunyt - previous['elhunyt']\n",
    "korhazban_dif = korhazban - previous['korhazban']\n",
    "gepen_dif = gepen - previous['gepen']\n",
    "teszt_dif = ossz_teszt - previous['ossz_teszt']\n",
    "pozitiv_arany = '%.2f'%((uj*100) / teszt_dif)"
   ]
  },
  {
   "cell_type": "code",
   "execution_count": 44,
   "metadata": {},
   "outputs": [],
   "source": [
    "previous = {'url':newest_url, 'uj': uj, 'elhunyt': elhunyt, 'korhazban': korhazban, 'gepen': gepen, 'ossz_teszt': ossz_teszt}"
   ]
  },
  {
   "cell_type": "code",
   "execution_count": 45,
   "metadata": {},
   "outputs": [
    {
     "data": {
      "text/plain": [
       "{'url': '/cikkek/2194-fovel-emelkedett-beazonositott-fertozottek-szama-es-elhunyt-56-kronikus-beteg',\n",
       " 'uj': 2194,\n",
       " 'elhunyt': 56,\n",
       " 'korhazban': 3197,\n",
       " 'gepen': 255,\n",
       " 'ossz_teszt': 1032942}"
      ]
     },
     "execution_count": 45,
     "metadata": {},
     "output_type": "execute_result"
    }
   ],
   "source": [
    "previous"
   ]
  }
 ],
 "metadata": {
  "kernelspec": {
   "display_name": "Python 3",
   "language": "python",
   "name": "python3"
  },
  "language_info": {
   "codemirror_mode": {
    "name": "ipython",
    "version": 3
   },
   "file_extension": ".py",
   "mimetype": "text/x-python",
   "name": "python",
   "nbconvert_exporter": "python",
   "pygments_lexer": "ipython3",
   "version": "3.8.8"
  }
 },
 "nbformat": 4,
 "nbformat_minor": 2
}
