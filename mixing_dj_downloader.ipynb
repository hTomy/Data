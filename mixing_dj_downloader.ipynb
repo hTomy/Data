{
 "cells": [
  {
   "cell_type": "markdown",
   "metadata": {},
   "source": [
    "Download n pages of mixes from k genre"
   ]
  },
  {
   "cell_type": "code",
   "execution_count": 15,
   "metadata": {},
   "outputs": [],
   "source": [
    "import requests\n",
    "from lxml import html\n",
    "from bs4 import BeautifulSoup\n",
    "import re\n",
    "\n",
    "no_pages = 3\n",
    "genre = 'techno'\n",
    "\n",
    "for page in range(1,no_pages + 1):\n",
    "    resp = requests.get(f'https://mixing.dj/livesets/{genre}/page/{page}')\n",
    "    page_content = html.fromstring(resp.text)\n",
    "\n",
    "    tiles=page_content.xpath(\"//div[@id='td-outer-wrap']/div[@class='td-outer-container']/div[@class='td-container']/\"\n",
    "                       \"div[@class='td-container-border']/div[@class='td-pb-row']/div[@class='td-pb-span8 td-main-content']/\"\n",
    "                       \"div[@class='td-ss-main-content']/div/div/div/div/a\")\n",
    "\n",
    "    for t in tiles:\n",
    "        try:\n",
    "            resp2 = requests.get(t.xpath('@href')[0])\n",
    "            page_content2 = html.fromstring(resp2.text)\n",
    "\n",
    "            li=page_content2.xpath(\"//div[@id='td-outer-wrap']/div[@class='td-outer-container']/div[@class='td-container td-post-template-default']/\"\n",
    "                                \"div/div/div[@class='td-pb-span8 td-main-content']/div/article/div[@class='td-post-content td-pb-padding-side']/\"\n",
    "                               \"div[@class='ownplayer']/div[@class='mixlinks']/a[@class='loopmix']/@href\n",
    "                                   \n",
    "            resp_li = requests.get(li)\n",
    "            soup = BeautifulSoup(resp_li.text, 'lxml')\n",
    "            a=soup.findAll('a', href=True)\n",
    "            link = [b['href'] for b in a if re.findall('mp3', b['href'])][0]\n",
    "            \n",
    "            if not link:\n",
    "                print(f\"Can't download '{t.xpath('@title')}'\")\n",
    "                continue\n",
    "                \n",
    "            resp3=requests.get(link, headers={'referer': str(link)})\n",
    "            open(f\"C:/Users/tamas.hegedus/Desktop/mixing_dl/{t.xpath('@title')}.mp3\", 'wb').write(resp3.content)\n",
    "        except:\n",
    "            pass"
   ]
  }
 ],
 "metadata": {
  "kernelspec": {
   "display_name": "Python 3",
   "language": "python",
   "name": "python3"
  },
  "language_info": {
   "codemirror_mode": {
    "name": "ipython",
    "version": 3
   },
   "file_extension": ".py",
   "mimetype": "text/x-python",
   "name": "python",
   "nbconvert_exporter": "python",
   "pygments_lexer": "ipython3",
   "version": "3.8.8"
  }
 },
 "nbformat": 4,
 "nbformat_minor": 2
}
